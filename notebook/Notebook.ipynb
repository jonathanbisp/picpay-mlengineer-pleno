{
 "cells": [
  {
   "cell_type": "code",
   "execution_count": null,
   "metadata": {
    "application/vnd.databricks.v1+cell": {
     "cellMetadata": {
      "byteLimit": 2048000,
      "rowLimit": 10000
     },
     "inputWidgets": {},
     "nuid": "584f6895-af68-4192-a905-85daec6c543f",
     "showTitle": false,
     "title": ""
    }
   },
   "outputs": [],
   "source": [
    "import requests\n",
    "from io import BytesIO, StringIO\n",
    "from zipfile import ZipFile\n",
    "from pandas import read_csv\n",
    "from decimal import Decimal\n",
    "from datetime import date, timedelta\n",
    "import logging\n",
    "\n",
    "from pyspark.sql.functions import (\n",
    "    col,\n",
    "    max,\n",
    "    mean,\n",
    "    floor,\n",
    "    concat,\n",
    "    lit,\n",
    "    to_date,\n",
    "    date_format,\n",
    "    count,\n",
    "    row_number,\n",
    "    stddev,\n",
    "    last_day,\n",
    "    dayofmonth,\n",
    "    udf,\n",
    ")\n",
    "from pyspark.sql.types import DecimalType\n",
    "from pyspark.sql.window import Window\n",
    "from pyspark.sql import SparkSession\n",
    "from pyspark.dbutils import DBUtils"
   ]
  },
  {
   "cell_type": "code",
   "execution_count": null,
   "metadata": {},
   "outputs": [],
   "source": [
    "spark = SparkSession.builder.getOrCreate()\n",
    "dbutils = DBUtils(spark)"
   ]
  },
  {
   "cell_type": "code",
   "execution_count": null,
   "metadata": {
    "application/vnd.databricks.v1+cell": {
     "cellMetadata": {
      "byteLimit": 2048000,
      "rowLimit": 10000
     },
     "inputWidgets": {},
     "nuid": "ca3a9646-1fd5-4547-a0cf-30e74ebeae8c",
     "showTitle": false,
     "title": ""
    }
   },
   "outputs": [],
   "source": [
    "dbutils.widgets.text(\"airport_token\", \"\")\n",
    "dbutils.widgets.text(\"wheather_token\", \"\")\n",
    "\n",
    "AIRPORT_TOKEN: str = dbutils.widgets.get(\"airport_token\")\n",
    "WHEATER_TOKEN: str = dbutils.widgets.get(\"wheather_token\")"
   ]
  },
  {
   "cell_type": "code",
   "execution_count": null,
   "metadata": {
    "application/vnd.databricks.v1+cell": {
     "cellMetadata": {
      "byteLimit": 2048000,
      "rowLimit": 10000
     },
     "inputWidgets": {},
     "nuid": "9fa798e5-9d8f-4e23-800a-2f1b9a68b79d",
     "showTitle": false,
     "title": ""
    }
   },
   "outputs": [],
   "source": [
    "AIRPORT_SESSION = requests.Session()\n",
    "AIRPORT_SESSION.params = {\"apiToken\": AIRPORT_TOKEN}\n",
    "\n",
    "WHEATER_SESSION = requests.Session()\n",
    "WHEATER_SESSION.params = {\"key\": WHEATER_TOKEN}"
   ]
  },
  {
   "cell_type": "markdown",
   "metadata": {
    "application/vnd.databricks.v1+cell": {
     "cellMetadata": {},
     "inputWidgets": {},
     "nuid": "47666fde-4efd-4411-a3a0-d74a804ce130",
     "showTitle": false,
     "title": ""
    }
   },
   "source": [
    "## Download da base airports-database"
   ]
  },
  {
   "cell_type": "code",
   "execution_count": null,
   "metadata": {
    "application/vnd.databricks.v1+cell": {
     "cellMetadata": {
      "byteLimit": 2048000,
      "rowLimit": 10000
     },
     "inputWidgets": {},
     "nuid": "76e7a020-4058-4fe8-84ec-70c305e4d0c7",
     "showTitle": false,
     "title": ""
    }
   },
   "outputs": [],
   "source": [
    "response = requests.get(\n",
    "    \"https://github.com/PicPay/case-machine-learning-engineer-pleno/raw/main/notebook/airports-database.zip\"\n",
    ")\n",
    "files = ZipFile(BytesIO(response.content))\n",
    "csv = files.open(\"airports-database.csv\").read().decode(\"utf-8\")\n",
    "df = spark.createDataFrame(read_csv(StringIO(csv)))\n",
    "df.write.saveAsTable(\"airports_database\", format=\"delta\", mode=\"overwrite\")\n",
    "del response, files, csv"
   ]
  },
  {
   "cell_type": "markdown",
   "metadata": {
    "application/vnd.databricks.v1+cell": {
     "cellMetadata": {},
     "inputWidgets": {},
     "nuid": "207c3545-d915-405e-b071-424c239f3fd5",
     "showTitle": false,
     "title": ""
    }
   },
   "source": [
    "## Respondendo as questões"
   ]
  },
  {
   "cell_type": "markdown",
   "metadata": {
    "application/vnd.databricks.v1+cell": {
     "cellMetadata": {},
     "inputWidgets": {},
     "nuid": "022c0138-b333-4fdb-b8ad-fb2d8db4b4fd",
     "showTitle": false,
     "title": ""
    }
   },
   "source": [
    "### Questão 1 - Qual é o número total de voos no conjunto de dados?"
   ]
  },
  {
   "cell_type": "code",
   "execution_count": null,
   "metadata": {
    "application/vnd.databricks.v1+cell": {
     "cellMetadata": {
      "byteLimit": 2048000,
      "rowLimit": 10000
     },
     "inputWidgets": {},
     "nuid": "48ba38d2-5ee7-49fc-8dca-185cc04c5bb4",
     "showTitle": false,
     "title": ""
    }
   },
   "outputs": [
    {
     "data": {
      "text/html": [
       "<style scoped>\n",
       "  .table-result-container {\n",
       "    max-height: 300px;\n",
       "    overflow: auto;\n",
       "  }\n",
       "  table, th, td {\n",
       "    border: 1px solid black;\n",
       "    border-collapse: collapse;\n",
       "  }\n",
       "  th, td {\n",
       "    padding: 5px;\n",
       "  }\n",
       "  th {\n",
       "    text-align: left;\n",
       "  }\n",
       "</style><div class='table-result-container'><table class='table-result'><thead style='background-color: white'><tr><th>max(id)</th></tr></thead><tbody><tr><td>336775</td></tr></tbody></table></div>"
      ]
     },
     "metadata": {
      "application/vnd.databricks.v1+output": {
       "addedWidgets": {},
       "aggData": [],
       "aggError": "",
       "aggOverflow": false,
       "aggSchema": [],
       "aggSeriesLimitReached": false,
       "aggType": "",
       "arguments": {},
       "columnCustomDisplayInfos": {},
       "data": [
        [
         336775
        ]
       ],
       "datasetInfos": [],
       "dbfsResultPath": null,
       "isJsonSchema": true,
       "metadata": {},
       "overflow": false,
       "plotOptions": {
        "customPlotOptions": {},
        "displayType": "table",
        "pivotAggregation": null,
        "pivotColumns": null,
        "xColumns": null,
        "yColumns": null
       },
       "removedWidgets": [],
       "schema": [
        {
         "metadata": "{}",
         "name": "max(id)",
         "type": "\"long\""
        }
       ],
       "type": "table"
      }
     },
     "output_type": "display_data"
    }
   ],
   "source": [
    "df.count()  # Podemos obter o valor a partir da contagem de linhas\n",
    "df.select(\n",
    "    max(col(\"id\"))\n",
    ").display()  # Após verificar rapidamente que a base é sequencial, também podemos obter o valor pegando o ultimo id criado"
   ]
  },
  {
   "cell_type": "markdown",
   "metadata": {
    "application/vnd.databricks.v1+cell": {
     "cellMetadata": {},
     "inputWidgets": {},
     "nuid": "e72b44d6-cdcf-4f2e-8fac-f124404da3e7",
     "showTitle": false,
     "title": ""
    }
   },
   "source": [
    "###Questão 2 - Quantos voos foram cancelados?\n",
    "(Considerando que voos cancelados têm dep_time e arr_time nulos)\n"
   ]
  },
  {
   "cell_type": "code",
   "execution_count": null,
   "metadata": {
    "application/vnd.databricks.v1+cell": {
     "cellMetadata": {},
     "inputWidgets": {},
     "nuid": "4b69eaff-9c09-42b4-bea7-c63af86ba862",
     "showTitle": false,
     "title": ""
    }
   },
   "outputs": [],
   "source": [
    "# Podemos utilizar tanto o filter quando o where já que são equivalentes.\n",
    "# Ao todo temos 8255 voos cancelados. Com base na regra de negócio fornecida.\n",
    "(df.filter(col(\"dep_time\").isNull() & col(\"arr_time\").isNull()).count())"
   ]
  },
  {
   "cell_type": "markdown",
   "metadata": {
    "application/vnd.databricks.v1+cell": {
     "cellMetadata": {},
     "inputWidgets": {},
     "nuid": "40d82573-f98b-45b9-a3c6-f7b2981fd8a2",
     "showTitle": false,
     "title": ""
    }
   },
   "source": [
    "### Questão 3 - Qual é o atraso médio na partida dos voos?\n",
    "(dep_delay)"
   ]
  },
  {
   "cell_type": "code",
   "execution_count": null,
   "metadata": {
    "application/vnd.databricks.v1+cell": {
     "cellMetadata": {
      "byteLimit": 2048000,
      "rowLimit": 10000
     },
     "inputWidgets": {},
     "nuid": "40d4e0ee-2b79-4109-8e72-e9459a376111",
     "showTitle": false,
     "title": ""
    }
   },
   "outputs": [
    {
     "data": {
      "text/html": [
       "<style scoped>\n",
       "  .table-result-container {\n",
       "    max-height: 300px;\n",
       "    overflow: auto;\n",
       "  }\n",
       "  table, th, td {\n",
       "    border: 1px solid black;\n",
       "    border-collapse: collapse;\n",
       "  }\n",
       "  th, td {\n",
       "    padding: 5px;\n",
       "  }\n",
       "  th {\n",
       "    text-align: left;\n",
       "  }\n",
       "</style><div class='table-result-container'><table class='table-result'><thead style='background-color: white'><tr><th>minutes</th><th>seconds</th></tr></thead><tbody><tr><td>39</td><td>22</td></tr></tbody></table></div>"
      ]
     },
     "metadata": {
      "application/vnd.databricks.v1+output": {
       "addedWidgets": {},
       "aggData": [],
       "aggError": "",
       "aggOverflow": false,
       "aggSchema": [],
       "aggSeriesLimitReached": false,
       "aggType": "",
       "arguments": {},
       "columnCustomDisplayInfos": {},
       "data": [
        [
         39,
         22
        ]
       ],
       "datasetInfos": [],
       "dbfsResultPath": null,
       "isJsonSchema": true,
       "metadata": {},
       "overflow": false,
       "plotOptions": {
        "customPlotOptions": {},
        "displayType": "table",
        "pivotAggregation": null,
        "pivotColumns": null,
        "xColumns": null,
        "yColumns": null
       },
       "removedWidgets": [],
       "schema": [
        {
         "metadata": "{}",
         "name": "minutes",
         "type": "\"long\""
        },
        {
         "metadata": "{}",
         "name": "seconds",
         "type": "\"long\""
        }
       ],
       "type": "table"
      }
     },
     "output_type": "display_data"
    }
   ],
   "source": [
    "# Devemos nos atentar que devemos considerar apenas os voos atrasados e não os adiantados.\n",
    "# Desta forma o tempo médio de atraso é de cerca de 39 minutos e 22 segundos.\n",
    "(\n",
    "    df.filter(col(\"dep_delay\") > 0)\n",
    "    .select(mean(col(\"dep_delay\")).alias(\"mean_dep_delay\"))\n",
    "    .select(\n",
    "        floor(col(\"mean_dep_delay\")).alias(\"minutes\"),\n",
    "        floor((col(\"mean_dep_delay\") - floor(col(\"mean_dep_delay\"))) * 60).alias(\n",
    "            \"seconds\"\n",
    "        ),\n",
    "    )\n",
    "    .display()\n",
    ")"
   ]
  },
  {
   "cell_type": "markdown",
   "metadata": {
    "application/vnd.databricks.v1+cell": {
     "cellMetadata": {},
     "inputWidgets": {},
     "nuid": "7e4f5f4b-4ca3-4f56-9b4b-d109804e22d9",
     "showTitle": false,
     "title": ""
    }
   },
   "source": [
    "### Questão 4 - Quais são os 5 aeroportos com maior número de pousos?"
   ]
  },
  {
   "cell_type": "code",
   "execution_count": null,
   "metadata": {
    "application/vnd.databricks.v1+cell": {
     "cellMetadata": {
      "byteLimit": 2048000,
      "rowLimit": 10000
     },
     "inputWidgets": {},
     "nuid": "2d234bb5-a5b9-4200-b2eb-22573c14187e",
     "showTitle": false,
     "title": ""
    }
   },
   "outputs": [
    {
     "data": {
      "text/html": [
       "<style scoped>\n",
       "  .table-result-container {\n",
       "    max-height: 300px;\n",
       "    overflow: auto;\n",
       "  }\n",
       "  table, th, td {\n",
       "    border: 1px solid black;\n",
       "    border-collapse: collapse;\n",
       "  }\n",
       "  th, td {\n",
       "    padding: 5px;\n",
       "  }\n",
       "  th {\n",
       "    text-align: left;\n",
       "  }\n",
       "</style><div class='table-result-container'><table class='table-result'><thead style='background-color: white'><tr><th>dest</th><th>count</th></tr></thead><tbody><tr><td>ATL</td><td>16873</td></tr><tr><td>ORD</td><td>16607</td></tr><tr><td>LAX</td><td>16058</td></tr><tr><td>BOS</td><td>15028</td></tr><tr><td>MCO</td><td>13979</td></tr></tbody></table></div>"
      ]
     },
     "metadata": {
      "application/vnd.databricks.v1+output": {
       "addedWidgets": {},
       "aggData": [],
       "aggError": "",
       "aggOverflow": false,
       "aggSchema": [],
       "aggSeriesLimitReached": false,
       "aggType": "",
       "arguments": {},
       "columnCustomDisplayInfos": {},
       "data": [
        [
         "ATL",
         16873
        ],
        [
         "ORD",
         16607
        ],
        [
         "LAX",
         16058
        ],
        [
         "BOS",
         15028
        ],
        [
         "MCO",
         13979
        ]
       ],
       "datasetInfos": [],
       "dbfsResultPath": null,
       "isJsonSchema": true,
       "metadata": {},
       "overflow": false,
       "plotOptions": {
        "customPlotOptions": {},
        "displayType": "table",
        "pivotAggregation": null,
        "pivotColumns": null,
        "xColumns": null,
        "yColumns": null
       },
       "removedWidgets": [],
       "schema": [
        {
         "metadata": "{}",
         "name": "dest",
         "type": "\"string\""
        },
        {
         "metadata": "{}",
         "name": "count",
         "type": "\"long\""
        }
       ],
       "type": "table"
      }
     },
     "output_type": "display_data"
    }
   ],
   "source": [
    "# Filtrando os pousos devidamente finalizados, realizando um groupBy olhando para os destinos, em seguida contando e ordenando temos\n",
    "# que os destinos mais procurados são:\n",
    "# 1- ATL com 16873 pousos\n",
    "# 2- ORD com 16607 pousos\n",
    "# 3- LAX com 16058 pousos\n",
    "# 4- BOS com 15028 pousos\n",
    "# 5- MCO com 13979 pousos\n",
    "(\n",
    "    df.filter(col(\"dep_time\").isNotNull() & col(\"arr_time\").isNotNull())\n",
    "    .groupBy(col(\"dest\"))\n",
    "    .count()\n",
    "    .orderBy(col(\"count\").desc())\n",
    "    .limit(5)\n",
    "    .display()\n",
    ")"
   ]
  },
  {
   "cell_type": "markdown",
   "metadata": {
    "application/vnd.databricks.v1+cell": {
     "cellMetadata": {},
     "inputWidgets": {},
     "nuid": "f0114fcd-8b68-4526-ba2f-820c0a8f4644",
     "showTitle": false,
     "title": ""
    }
   },
   "source": [
    "### Questão 5 - Qual é a rota mais frequente (par origin-dest)?"
   ]
  },
  {
   "cell_type": "code",
   "execution_count": null,
   "metadata": {
    "application/vnd.databricks.v1+cell": {
     "cellMetadata": {
      "byteLimit": 2048000,
      "rowLimit": 10000
     },
     "inputWidgets": {},
     "nuid": "fb8cf5a3-feb3-4762-930a-83e50f08d6df",
     "showTitle": false,
     "title": ""
    }
   },
   "outputs": [
    {
     "data": {
      "text/html": [
       "<style scoped>\n",
       "  .table-result-container {\n",
       "    max-height: 300px;\n",
       "    overflow: auto;\n",
       "  }\n",
       "  table, th, td {\n",
       "    border: 1px solid black;\n",
       "    border-collapse: collapse;\n",
       "  }\n",
       "  th, td {\n",
       "    padding: 5px;\n",
       "  }\n",
       "  th {\n",
       "    text-align: left;\n",
       "  }\n",
       "</style><div class='table-result-container'><table class='table-result'><thead style='background-color: white'><tr><th>route</th><th>count</th></tr></thead><tbody><tr><td>JFK-LAX</td><td>11182</td></tr></tbody></table></div>"
      ]
     },
     "metadata": {
      "application/vnd.databricks.v1+output": {
       "addedWidgets": {},
       "aggData": [],
       "aggError": "",
       "aggOverflow": false,
       "aggSchema": [],
       "aggSeriesLimitReached": false,
       "aggType": "",
       "arguments": {},
       "columnCustomDisplayInfos": {},
       "data": [
        [
         "JFK-LAX",
         11182
        ]
       ],
       "datasetInfos": [],
       "dbfsResultPath": null,
       "isJsonSchema": true,
       "metadata": {},
       "overflow": false,
       "plotOptions": {
        "customPlotOptions": {},
        "displayType": "table",
        "pivotAggregation": null,
        "pivotColumns": null,
        "xColumns": null,
        "yColumns": null
       },
       "removedWidgets": [],
       "schema": [
        {
         "metadata": "{}",
         "name": "route",
         "type": "\"string\""
        },
        {
         "metadata": "{}",
         "name": "count",
         "type": "\"long\""
        }
       ],
       "type": "table"
      }
     },
     "output_type": "display_data"
    }
   ],
   "source": [
    "# Como na questão anterior, após filtrar os voos devidamente finalizados, realizamos a concatenação da tupla origin-dest para agruparmos e realizarmos a contagem.\n",
    "# No final do processo obtemos que o par JFK-LAX é a rota mais frequente com 11182 voos.\n",
    "(\n",
    "    df.filter(col(\"dep_time\").isNotNull() & col(\"arr_time\").isNotNull())\n",
    "    .groupBy(concat(col(\"origin\"), lit(\"-\"), col(\"dest\")).alias(\"route\"))\n",
    "    .count()\n",
    "    .orderBy(col(\"count\").desc())\n",
    "    .limit(1)\n",
    "    .display()\n",
    ")"
   ]
  },
  {
   "cell_type": "markdown",
   "metadata": {
    "application/vnd.databricks.v1+cell": {
     "cellMetadata": {},
     "inputWidgets": {},
     "nuid": "46ad7d60-8316-49c6-a529-111c71402e07",
     "showTitle": false,
     "title": ""
    }
   },
   "source": [
    "### Questão 6 - Quais são as 5 companhias aéreas com maior tempo médio de atraso na chegada?\n",
    "(Exiba também o tempo)"
   ]
  },
  {
   "cell_type": "code",
   "execution_count": null,
   "metadata": {
    "application/vnd.databricks.v1+cell": {
     "cellMetadata": {
      "byteLimit": 2048000,
      "rowLimit": 10000
     },
     "inputWidgets": {},
     "nuid": "cfc798bd-819e-4d96-b4b9-5f19b572d6e8",
     "showTitle": false,
     "title": ""
    }
   },
   "outputs": [
    {
     "data": {
      "text/html": [
       "<style scoped>\n",
       "  .table-result-container {\n",
       "    max-height: 300px;\n",
       "    overflow: auto;\n",
       "  }\n",
       "  table, th, td {\n",
       "    border: 1px solid black;\n",
       "    border-collapse: collapse;\n",
       "  }\n",
       "  th, td {\n",
       "    padding: 5px;\n",
       "  }\n",
       "  th {\n",
       "    text-align: left;\n",
       "  }\n",
       "</style><div class='table-result-container'><table class='table-result'><thead style='background-color: white'><tr><th>name</th><th>avg_arr_delay_minutes</th><th>avg_arr_delay_seconds</th></tr></thead><tbody><tr><td>SkyWest Airlines Inc.</td><td>60</td><td>36</td></tr><tr><td>Mesa Airlines Inc.</td><td>51</td><td>4</td></tr><tr><td>Endeavor Air Inc.</td><td>49</td><td>16</td></tr><tr><td>ExpressJet Airlines Inc.</td><td>48</td><td>16</td></tr><tr><td>Frontier Airlines Inc.</td><td>47</td><td>34</td></tr></tbody></table></div>"
      ]
     },
     "metadata": {
      "application/vnd.databricks.v1+output": {
       "addedWidgets": {},
       "aggData": [],
       "aggError": "",
       "aggOverflow": false,
       "aggSchema": [],
       "aggSeriesLimitReached": false,
       "aggType": "",
       "arguments": {},
       "columnCustomDisplayInfos": {},
       "data": [
        [
         "SkyWest Airlines Inc.",
         60,
         36
        ],
        [
         "Mesa Airlines Inc.",
         51,
         4
        ],
        [
         "Endeavor Air Inc.",
         49,
         16
        ],
        [
         "ExpressJet Airlines Inc.",
         48,
         16
        ],
        [
         "Frontier Airlines Inc.",
         47,
         34
        ]
       ],
       "datasetInfos": [],
       "dbfsResultPath": null,
       "isJsonSchema": true,
       "metadata": {},
       "overflow": false,
       "plotOptions": {
        "customPlotOptions": {},
        "displayType": "table",
        "pivotAggregation": null,
        "pivotColumns": null,
        "xColumns": null,
        "yColumns": null
       },
       "removedWidgets": [],
       "schema": [
        {
         "metadata": "{}",
         "name": "name",
         "type": "\"string\""
        },
        {
         "metadata": "{}",
         "name": "avg_arr_delay_minutes",
         "type": "\"long\""
        },
        {
         "metadata": "{}",
         "name": "avg_arr_delay_seconds",
         "type": "\"long\""
        }
       ],
       "type": "table"
      }
     },
     "output_type": "display_data"
    }
   ],
   "source": [
    "# Partindo do principio que o tempo médio de atraso depende do voo partir, fiz o classico filtro de apenas voos que terminaram.\n",
    "# Também realizei um filtro de apenas voos atrasados, ou seja com arr_delay maior do que 0.\n",
    "# As top 5 empresas que mais atrasam voos são:\n",
    "# 1 - SkyWest Airlines Inc.\t60 minutos e 36 segundos\n",
    "# 2 - Mesa Airlines Inc. 51 minutos e 4 segundos\n",
    "# 3 - Endeavor Air Inc. 49 minutos e 16 segundos\n",
    "# 4 - ExpressJet Airlines Inc. 48 minutos e16 segundos\n",
    "# 5 - Frontier Airlines Inc. 47 minutos e 34 segundos\n",
    "(\n",
    "    df.filter(\n",
    "        col(\"dep_time\").isNotNull()\n",
    "        & col(\"arr_time\").isNotNull()\n",
    "        & (col(\"arr_delay\") > 0)\n",
    "    )\n",
    "    .groupBy(\"name\")\n",
    "    .mean()\n",
    "    .select(col(\"avg(arr_delay)\").alias(\"avg_arr_delay\"), col(\"name\"))\n",
    "    .orderBy(col(\"avg_arr_delay\").desc())\n",
    "    .select(col(\"name\"), col(\"avg_arr_delay\"))\n",
    "    .select(\n",
    "        col(\"name\"),\n",
    "        floor(col(\"avg_arr_delay\")).alias(\"avg_arr_delay_minutes\"),\n",
    "        floor((col(\"avg_arr_delay\") - floor(col(\"avg_arr_delay\"))) * 60).alias(\n",
    "            \"avg_arr_delay_seconds\"\n",
    "        ),\n",
    "    )\n",
    "    .limit(5)\n",
    "    .display()\n",
    ")"
   ]
  },
  {
   "cell_type": "markdown",
   "metadata": {
    "application/vnd.databricks.v1+cell": {
     "cellMetadata": {},
     "inputWidgets": {},
     "nuid": "eb25e73b-cdb7-4a48-940a-3972cd70fea4",
     "showTitle": false,
     "title": ""
    }
   },
   "source": [
    "###  Questão 7 - Qual é o dia da semana com maior número de voos?\n"
   ]
  },
  {
   "cell_type": "code",
   "execution_count": null,
   "metadata": {
    "application/vnd.databricks.v1+cell": {
     "cellMetadata": {
      "byteLimit": 2048000,
      "rowLimit": 10000
     },
     "inputWidgets": {},
     "nuid": "a9c0326c-848b-45b1-832f-e3e360ad9d8a",
     "showTitle": false,
     "title": ""
    }
   },
   "outputs": [
    {
     "data": {
      "text/html": [
       "<style scoped>\n",
       "  .table-result-container {\n",
       "    max-height: 300px;\n",
       "    overflow: auto;\n",
       "  }\n",
       "  table, th, td {\n",
       "    border: 1px solid black;\n",
       "    border-collapse: collapse;\n",
       "  }\n",
       "  th, td {\n",
       "    padding: 5px;\n",
       "  }\n",
       "  th {\n",
       "    text-align: left;\n",
       "  }\n",
       "</style><div class='table-result-container'><table class='table-result'><thead style='background-color: white'><tr><th>day_of_week</th><th>trips_by_day_of_week</th></tr></thead><tbody><tr><td>Monday</td><td>49398</td></tr></tbody></table></div>"
      ]
     },
     "metadata": {
      "application/vnd.databricks.v1+output": {
       "addedWidgets": {},
       "aggData": [],
       "aggError": "",
       "aggOverflow": false,
       "aggSchema": [],
       "aggSeriesLimitReached": false,
       "aggType": "",
       "arguments": {},
       "columnCustomDisplayInfos": {},
       "data": [
        [
         "Monday",
         49398
        ]
       ],
       "datasetInfos": [],
       "dbfsResultPath": null,
       "isJsonSchema": true,
       "metadata": {},
       "overflow": false,
       "plotOptions": {
        "customPlotOptions": {},
        "displayType": "table",
        "pivotAggregation": null,
        "pivotColumns": null,
        "xColumns": null,
        "yColumns": null
       },
       "removedWidgets": [],
       "schema": [
        {
         "metadata": "{}",
         "name": "day_of_week",
         "type": "\"string\""
        },
        {
         "metadata": "{}",
         "name": "trips_by_day_of_week",
         "type": "\"long\""
        }
       ],
       "type": "table"
      }
     },
     "output_type": "display_data"
    }
   ],
   "source": [
    "# Partindo da filtragem de apenas voos que realmente aconteceram, logo em seguida calculamos o dia da semana... eu escolhi fazer através do campo date_format.\n",
    "# Ai realizamos um agrupamento no dia da semana e em seguida um count. Finalmente, ordenamos e pegamos a primeira linha.\n",
    "# Com isso concluimos que o dia da semana com maior números de viagens é Segunda Feira com 49398 voos.\n",
    "(\n",
    "    df.filter(col(\"dep_time\").isNotNull() & col(\"arr_time\").isNotNull())\n",
    "    .select(\n",
    "        date_format(to_date(col(\"time_hour\"), \"yyyy-MM-dd HH:mm:ss\"), \"EEEE\").alias(\n",
    "            \"day_of_week\"\n",
    "        )\n",
    "    )\n",
    "    .groupBy(\"day_of_week\")\n",
    "    .agg(count(\"day_of_week\").alias(\"trips_by_day_of_week\"))\n",
    "    .orderBy(col(\"trips_by_day_of_week\").desc())\n",
    "    .limit(1)\n",
    "    .display()\n",
    ")"
   ]
  },
  {
   "cell_type": "markdown",
   "metadata": {
    "application/vnd.databricks.v1+cell": {
     "cellMetadata": {},
     "inputWidgets": {},
     "nuid": "c02d8ecb-5f94-4632-b7e7-6d5d47f74bc1",
     "showTitle": false,
     "title": ""
    }
   },
   "source": [
    "### Questão 8 - Qual o percentual mensal dos voos tiveram atraso na partida superior a 30 minutos?"
   ]
  },
  {
   "cell_type": "code",
   "execution_count": null,
   "metadata": {
    "application/vnd.databricks.v1+cell": {
     "cellMetadata": {
      "byteLimit": 2048000,
      "rowLimit": 10000
     },
     "inputWidgets": {},
     "nuid": "71d33644-48d9-4d87-a92c-f2549f669eae",
     "showTitle": false,
     "title": ""
    }
   },
   "outputs": [
    {
     "data": {
      "text/html": [
       "<style scoped>\n",
       "  .table-result-container {\n",
       "    max-height: 300px;\n",
       "    overflow: auto;\n",
       "  }\n",
       "  table, th, td {\n",
       "    border: 1px solid black;\n",
       "    border-collapse: collapse;\n",
       "  }\n",
       "  th, td {\n",
       "    padding: 5px;\n",
       "  }\n",
       "  th {\n",
       "    text-align: left;\n",
       "  }\n",
       "</style><div class='table-result-container'><table class='table-result'><thead style='background-color: white'><tr><th>month</th><th>percentage</th></tr></thead><tbody><tr><td>1</td><td>14.122267114752859</td></tr><tr><td>10</td><td>9.48591770495236</td></tr><tr><td>11</td><td>9.728130201590531</td></tr><tr><td>12</td><td>21.047583917373665</td></tr><tr><td>2</td><td>14.229632756437315</td></tr><tr><td>3</td><td>15.296893432953205</td></tr><tr><td>4</td><td>18.79473646157183</td></tr><tr><td>5</td><td>14.840789147451563</td></tr><tr><td>6</td><td>22.765660571344643</td></tr><tr><td>7</td><td>23.1911532385466</td></tr><tr><td>8</td><td>15.74841371658403</td></tr><tr><td>9</td><td>8.546567362288917</td></tr></tbody></table></div>"
      ]
     },
     "metadata": {
      "application/vnd.databricks.v1+output": {
       "addedWidgets": {},
       "aggData": [],
       "aggError": "",
       "aggOverflow": false,
       "aggSchema": [],
       "aggSeriesLimitReached": false,
       "aggType": "",
       "arguments": {},
       "columnCustomDisplayInfos": {},
       "data": [
        [
         1,
         14.12226711475286
        ],
        [
         10,
         9.48591770495236
        ],
        [
         11,
         9.728130201590533
        ],
        [
         12,
         21.047583917373665
        ],
        [
         2,
         14.229632756437317
        ],
        [
         3,
         15.296893432953205
        ],
        [
         4,
         18.79473646157183
        ],
        [
         5,
         14.840789147451565
        ],
        [
         6,
         22.765660571344643
        ],
        [
         7,
         23.1911532385466
        ],
        [
         8,
         15.74841371658403
        ],
        [
         9,
         8.546567362288917
        ]
       ],
       "datasetInfos": [],
       "dbfsResultPath": null,
       "isJsonSchema": true,
       "metadata": {},
       "overflow": false,
       "plotOptions": {
        "customPlotOptions": {},
        "displayType": "table",
        "pivotAggregation": null,
        "pivotColumns": null,
        "xColumns": null,
        "yColumns": null
       },
       "removedWidgets": [],
       "schema": [
        {
         "metadata": "{}",
         "name": "month",
         "type": "\"long\""
        },
        {
         "metadata": "{}",
         "name": "percentage",
         "type": "\"double\""
        }
       ],
       "type": "table"
      }
     },
     "output_type": "display_data"
    }
   ],
   "source": [
    "# Neste caso, entende-se que devemos considerar todos os voos que partiram, desta forma estou removendo o filtro de voos atrasados para o calculo do valor total\n",
    "# Em seguida, para realizei um agrupamento a partir do mês.\n",
    "# Para o calculo do valor de voos atrasados seguimos a logica anterior adicionando um filtro de atraso superior a 30 minutos.\n",
    "# Em seguida, cruzamos os dois dataframes e realizamos o calculo da porcentagem mensal.\n",
    "# Desta forma, concluimos que o mês com maior número de atrasos acima de 30 minutos é Julho com cerca de 23,191% de atrasos\n",
    "monthly_flights = (\n",
    "    df.filter(col(\"dep_time\").isNotNull())\n",
    "    .groupBy(\"month\")\n",
    "    .agg(count(\"month\").alias(\"amount_monthly_flights\"))\n",
    ")\n",
    "monthly_delayed_flights = (\n",
    "    df.filter(\n",
    "        col(\"dep_time\").isNotNull()\n",
    "        & col(\"arr_time\").isNotNull()\n",
    "        & (col(\"arr_delay\") > 30)\n",
    "    )\n",
    "    .groupBy(\"month\")\n",
    "    .agg(count(\"month\").alias(\"amount_monthly_delayed_flights\"))\n",
    ")\n",
    "monthly_flights.join(monthly_delayed_flights, on=\"month\", how=\"inner\").select(\n",
    "    col(\"month\"),\n",
    "    (col(\"amount_monthly_delayed_flights\") / col(\"amount_monthly_flights\") * 100).alias(\n",
    "        \"percentage\"\n",
    "    ),\n",
    ").display()"
   ]
  },
  {
   "cell_type": "markdown",
   "metadata": {
    "application/vnd.databricks.v1+cell": {
     "cellMetadata": {},
     "inputWidgets": {},
     "nuid": "7c92ab4c-649e-4217-8843-1ce88d241b86",
     "showTitle": false,
     "title": ""
    }
   },
   "source": [
    "### Questão 9 - Qual a origem mais comum para voos que pousaram em Seattle (SEA)?"
   ]
  },
  {
   "cell_type": "code",
   "execution_count": null,
   "metadata": {
    "application/vnd.databricks.v1+cell": {
     "cellMetadata": {
      "byteLimit": 2048000,
      "rowLimit": 10000
     },
     "inputWidgets": {},
     "nuid": "a8aecc6e-a3b9-4edb-982f-0bb1a770daff",
     "showTitle": false,
     "title": ""
    }
   },
   "outputs": [
    {
     "data": {
      "text/html": [
       "<style scoped>\n",
       "  .table-result-container {\n",
       "    max-height: 300px;\n",
       "    overflow: auto;\n",
       "  }\n",
       "  table, th, td {\n",
       "    border: 1px solid black;\n",
       "    border-collapse: collapse;\n",
       "  }\n",
       "  th, td {\n",
       "    padding: 5px;\n",
       "  }\n",
       "  th {\n",
       "    text-align: left;\n",
       "  }\n",
       "</style><div class='table-result-container'><table class='table-result'><thead style='background-color: white'><tr><th>origin</th><th>amount_flights</th></tr></thead><tbody><tr><td>JFK</td><td>2079</td></tr></tbody></table></div>"
      ]
     },
     "metadata": {
      "application/vnd.databricks.v1+output": {
       "addedWidgets": {},
       "aggData": [],
       "aggError": "",
       "aggOverflow": false,
       "aggSchema": [],
       "aggSeriesLimitReached": false,
       "aggType": "",
       "arguments": {},
       "columnCustomDisplayInfos": {},
       "data": [
        [
         "JFK",
         2079
        ]
       ],
       "datasetInfos": [],
       "dbfsResultPath": null,
       "isJsonSchema": true,
       "metadata": {},
       "overflow": false,
       "plotOptions": {
        "customPlotOptions": {},
        "displayType": "table",
        "pivotAggregation": null,
        "pivotColumns": null,
        "xColumns": null,
        "yColumns": null
       },
       "removedWidgets": [],
       "schema": [
        {
         "metadata": "{}",
         "name": "origin",
         "type": "\"string\""
        },
        {
         "metadata": "{}",
         "name": "amount_flights",
         "type": "\"long\""
        }
       ],
       "type": "table"
      }
     },
     "output_type": "display_data"
    }
   ],
   "source": [
    "# Como se trata de voos que pousaram, ou seja, foram finalizados, devemos primeiramente filtrar com base nos voos que\n",
    "# devidamente aconteceram e nos que tem SEA como destino. Em seguida, devemos agrupar pela origem realizar um count ordenar e pegar o maior.\n",
    "# Com isso concluimos que o aeroporto JFK é a origem mais comum para voos que pousaram em Seattle.\n",
    "df.filter(\n",
    "    col(\"dep_time\").isNotNull() & col(\"arr_time\").isNotNull() & (col(\"dest\") == \"SEA\")\n",
    ").groupBy(col(\"origin\")).agg(count(col(\"origin\")).alias(\"amount_flights\")).orderBy(\n",
    "    col(\"amount_flights\").desc()\n",
    ").limit(1).display()"
   ]
  },
  {
   "cell_type": "markdown",
   "metadata": {
    "application/vnd.databricks.v1+cell": {
     "cellMetadata": {},
     "inputWidgets": {},
     "nuid": "00959054-0bf8-4245-b61c-9e128eb90bf5",
     "showTitle": false,
     "title": ""
    }
   },
   "source": [
    "### Questão 10 - Qual é a média de atraso na partida dos voos (dep_delay) para cada dia da semana?"
   ]
  },
  {
   "cell_type": "code",
   "execution_count": null,
   "metadata": {
    "application/vnd.databricks.v1+cell": {
     "cellMetadata": {
      "byteLimit": 2048000,
      "rowLimit": 10000
     },
     "inputWidgets": {},
     "nuid": "e37825d0-ab8d-45f1-b9b3-e520e34af648",
     "showTitle": false,
     "title": ""
    }
   },
   "outputs": [
    {
     "data": {
      "text/html": [
       "<style scoped>\n",
       "  .table-result-container {\n",
       "    max-height: 300px;\n",
       "    overflow: auto;\n",
       "  }\n",
       "  table, th, td {\n",
       "    border: 1px solid black;\n",
       "    border-collapse: collapse;\n",
       "  }\n",
       "  th, td {\n",
       "    padding: 5px;\n",
       "  }\n",
       "  th {\n",
       "    text-align: left;\n",
       "  }\n",
       "</style><div class='table-result-container'><table class='table-result'><thead style='background-color: white'><tr><th>day_of_week</th><th>avg_dep_delay_minutes</th><th>avg_dep_delay_seconds</th></tr></thead><tbody><tr><td>Wednesday</td><td>39</td><td>31</td></tr><tr><td>Tuesday</td><td>37</td><td>25</td></tr><tr><td>Friday</td><td>40</td><td>23</td></tr><tr><td>Thursday</td><td>43</td><td>8</td></tr><tr><td>Saturday</td><td>30</td><td>29</td></tr><tr><td>Monday</td><td>43</td><td>31</td></tr><tr><td>Sunday</td><td>37</td><td>30</td></tr></tbody></table></div>"
      ]
     },
     "metadata": {
      "application/vnd.databricks.v1+output": {
       "addedWidgets": {},
       "aggData": [],
       "aggError": "",
       "aggOverflow": false,
       "aggSchema": [],
       "aggSeriesLimitReached": false,
       "aggType": "",
       "arguments": {},
       "columnCustomDisplayInfos": {},
       "data": [
        [
         "Wednesday",
         39,
         31
        ],
        [
         "Tuesday",
         37,
         25
        ],
        [
         "Friday",
         40,
         23
        ],
        [
         "Thursday",
         43,
         8
        ],
        [
         "Saturday",
         30,
         29
        ],
        [
         "Monday",
         43,
         31
        ],
        [
         "Sunday",
         37,
         30
        ]
       ],
       "datasetInfos": [],
       "dbfsResultPath": null,
       "isJsonSchema": true,
       "metadata": {},
       "overflow": false,
       "plotOptions": {
        "customPlotOptions": {},
        "displayType": "table",
        "pivotAggregation": null,
        "pivotColumns": null,
        "xColumns": null,
        "yColumns": null
       },
       "removedWidgets": [],
       "schema": [
        {
         "metadata": "{}",
         "name": "day_of_week",
         "type": "\"string\""
        },
        {
         "metadata": "{}",
         "name": "avg_dep_delay_minutes",
         "type": "\"long\""
        },
        {
         "metadata": "{}",
         "name": "avg_dep_delay_seconds",
         "type": "\"long\""
        }
       ],
       "type": "table"
      }
     },
     "output_type": "display_data"
    }
   ],
   "source": [
    "# Primeiramente, filtramos apenas os voos que partiram, em seguida realizamos um filtro sobre os voos que atrasaram\n",
    "# ou seja, que possuem arr_delay maior do que 0. Posteriormente, calculamos o dia da semana através da função to_date. Agrupamos pelo dia da semana\n",
    "# e agregamos pela média de atraso. Finalmente realizamos os calculos para obter os minutos e segundos. E temos o seguinte resultado:\n",
    "# Monday\t43:31\n",
    "# Tuesday\t37:25\n",
    "# Wednesday\t39:31\n",
    "# Thursday\t43:08\n",
    "# Friday\t40:23\n",
    "# Saturday\t30:29\n",
    "# Sunday\t37:30\n",
    "\n",
    "(\n",
    "    df.filter(col(\"dep_time\").isNotNull() & (col(\"dep_delay\") > 0))\n",
    "    .select(\n",
    "        date_format(to_date(col(\"time_hour\"), \"yyyy-MM-dd HH:mm:ss\"), \"EEEE\").alias(\n",
    "            \"day_of_week\"\n",
    "        ),\n",
    "        col(\"dep_delay\"),\n",
    "    )\n",
    "    .groupBy(col(\"day_of_week\"))\n",
    "    .agg(mean(\"dep_delay\").alias(\"avg_dep_delay\"))\n",
    "    .select(\n",
    "        col(\"day_of_week\"),\n",
    "        floor(col(\"avg_dep_delay\")).alias(\"avg_dep_delay_minutes\"),\n",
    "        floor((col(\"avg_dep_delay\") - floor(col(\"avg_dep_delay\"))) * 60).alias(\n",
    "            \"avg_dep_delay_seconds\"\n",
    "        ),\n",
    "    )\n",
    "    .display()\n",
    ")"
   ]
  },
  {
   "cell_type": "markdown",
   "metadata": {
    "application/vnd.databricks.v1+cell": {
     "cellMetadata": {},
     "inputWidgets": {},
     "nuid": "e045467b-8de3-4839-a4bd-4afb28648317",
     "showTitle": false,
     "title": ""
    }
   },
   "source": [
    "### Questão 11 - Qual é a rota que teve o maior tempo de voo médio (air_time)?"
   ]
  },
  {
   "cell_type": "code",
   "execution_count": null,
   "metadata": {
    "application/vnd.databricks.v1+cell": {
     "cellMetadata": {
      "byteLimit": 2048000,
      "rowLimit": 10000
     },
     "inputWidgets": {},
     "nuid": "18c963a9-1e9c-40fe-b0de-73baa01acb70",
     "showTitle": false,
     "title": ""
    }
   },
   "outputs": [
    {
     "data": {
      "text/html": [
       "<style scoped>\n",
       "  .table-result-container {\n",
       "    max-height: 300px;\n",
       "    overflow: auto;\n",
       "  }\n",
       "  table, th, td {\n",
       "    border: 1px solid black;\n",
       "    border-collapse: collapse;\n",
       "  }\n",
       "  th, td {\n",
       "    padding: 5px;\n",
       "  }\n",
       "  th {\n",
       "    text-align: left;\n",
       "  }\n",
       "</style><div class='table-result-container'><table class='table-result'><thead style='background-color: white'><tr><th>origin</th><th>dest</th><th>avg_air_time_hours</th><th>avg_air_time_minutes</th><th>avg_air_time_seconds</th></tr></thead><tbody><tr><td>JFK</td><td>HNL</td><td>10</td><td>23</td><td>5</td></tr></tbody></table></div>"
      ]
     },
     "metadata": {
      "application/vnd.databricks.v1+output": {
       "addedWidgets": {},
       "aggData": [],
       "aggError": "",
       "aggOverflow": false,
       "aggSchema": [],
       "aggSeriesLimitReached": false,
       "aggType": "",
       "arguments": {},
       "columnCustomDisplayInfos": {},
       "data": [
        [
         "JFK",
         "HNL",
         10,
         23,
         5
        ]
       ],
       "datasetInfos": [],
       "dbfsResultPath": null,
       "isJsonSchema": true,
       "metadata": {},
       "overflow": false,
       "plotOptions": {
        "customPlotOptions": {},
        "displayType": "table",
        "pivotAggregation": null,
        "pivotColumns": null,
        "xColumns": null,
        "yColumns": null
       },
       "removedWidgets": [],
       "schema": [
        {
         "metadata": "{}",
         "name": "origin",
         "type": "\"string\""
        },
        {
         "metadata": "{}",
         "name": "dest",
         "type": "\"string\""
        },
        {
         "metadata": "{}",
         "name": "avg_air_time_hours",
         "type": "\"long\""
        },
        {
         "metadata": "{}",
         "name": "avg_air_time_minutes",
         "type": "\"long\""
        },
        {
         "metadata": "{}",
         "name": "avg_air_time_seconds",
         "type": "\"long\""
        }
       ],
       "type": "table"
      }
     },
     "output_type": "display_data"
    }
   ],
   "source": [
    "# Após fazer a limpeza padrão de considerar apenas os voos finalizados, agrupamos por origem e destino e agregamos pela média do tempo no ar.\n",
    "# Em seguida ordenamos para pegar o maior e calculamos as horas, minutos e segundos.\n",
    "# Desta forma, podemos concluir que a rota com duração média mais longa é a JFK-HNL com duração de 10 horas 23 minutos e 5 segundos.\n",
    "df.filter(col(\"dep_time\").isNotNull() & col(\"arr_time\").isNotNull()).groupBy(\n",
    "    col(\"origin\"), col(\"dest\")\n",
    ").agg(mean(\"air_time\").alias(\"avg_air_time\")).orderBy(col(\"avg_air_time\").desc()).limit(\n",
    "    1\n",
    ").select(\n",
    "    col(\"origin\"),\n",
    "    col(\"dest\"),\n",
    "    floor(col(\"avg_air_time\") / 60).alias(\"avg_air_time_hours\"),\n",
    "    floor(col(\"avg_air_time\") % 60).alias(\"avg_air_time_minutes\"),\n",
    "    floor((col(\"avg_air_time\") - floor(col(\"avg_air_time\"))) * 60).alias(\n",
    "        \"avg_air_time_seconds\"\n",
    "    ),\n",
    ").display()"
   ]
  },
  {
   "cell_type": "markdown",
   "metadata": {
    "application/vnd.databricks.v1+cell": {
     "cellMetadata": {},
     "inputWidgets": {},
     "nuid": "062d882c-7fd8-4d23-bba5-2f1598574eac",
     "showTitle": false,
     "title": ""
    }
   },
   "source": [
    "### Questão 12 - Para cada aeroporto de origem, qual é o aeroporto de destino mais comum?"
   ]
  },
  {
   "cell_type": "code",
   "execution_count": null,
   "metadata": {
    "application/vnd.databricks.v1+cell": {
     "cellMetadata": {
      "byteLimit": 2048000,
      "rowLimit": 10000
     },
     "inputWidgets": {},
     "nuid": "5f9d5fd8-2981-41ca-a157-dec56b11ca2a",
     "showTitle": false,
     "title": ""
    }
   },
   "outputs": [
    {
     "data": {
      "text/html": [
       "<style scoped>\n",
       "  .table-result-container {\n",
       "    max-height: 300px;\n",
       "    overflow: auto;\n",
       "  }\n",
       "  table, th, td {\n",
       "    border: 1px solid black;\n",
       "    border-collapse: collapse;\n",
       "  }\n",
       "  th, td {\n",
       "    padding: 5px;\n",
       "  }\n",
       "  th {\n",
       "    text-align: left;\n",
       "  }\n",
       "</style><div class='table-result-container'><table class='table-result'><thead style='background-color: white'><tr><th>origin</th><th>dest</th><th>amount_flights</th></tr></thead><tbody><tr><td>EWR</td><td>ORD</td><td>5841</td></tr><tr><td>JFK</td><td>LAX</td><td>11182</td></tr><tr><td>LGA</td><td>ATL</td><td>10063</td></tr></tbody></table></div>"
      ]
     },
     "metadata": {
      "application/vnd.databricks.v1+output": {
       "addedWidgets": {},
       "aggData": [],
       "aggError": "",
       "aggOverflow": false,
       "aggSchema": [],
       "aggSeriesLimitReached": false,
       "aggType": "",
       "arguments": {},
       "columnCustomDisplayInfos": {},
       "data": [
        [
         "EWR",
         "ORD",
         5841
        ],
        [
         "JFK",
         "LAX",
         11182
        ],
        [
         "LGA",
         "ATL",
         10063
        ]
       ],
       "datasetInfos": [],
       "dbfsResultPath": null,
       "isJsonSchema": true,
       "metadata": {},
       "overflow": false,
       "plotOptions": {
        "customPlotOptions": {},
        "displayType": "table",
        "pivotAggregation": null,
        "pivotColumns": null,
        "xColumns": null,
        "yColumns": null
       },
       "removedWidgets": [],
       "schema": [
        {
         "metadata": "{}",
         "name": "origin",
         "type": "\"string\""
        },
        {
         "metadata": "{}",
         "name": "dest",
         "type": "\"string\""
        },
        {
         "metadata": "{}",
         "name": "amount_flights",
         "type": "\"long\""
        }
       ],
       "type": "table"
      }
     },
     "output_type": "display_data"
    }
   ],
   "source": [
    "# Iniciamos removendo os voos cancelados, em seguida, agrupando por origem e destino e agregamos pela contagem de cada destino.\n",
    "# posteriormente realizamos um janelamento através da função rank_over particionando pelo aeroporto de origem e ordenando pela maior quantidades de voos ao\n",
    "# aeroporto de destino. Em seguida filtramos pegando o maior rank e finalizamos pegando só as colunas necessárias.\n",
    "# Desta forma concluimos que para os aeroportos:\n",
    "# EWR o destino mais comum é ORD com 5841 voos\n",
    "# JFK o destimo mais comum é LAX com 11182 voos\n",
    "# LGA o destino mais comum é ATL com 10063 voos\n",
    "df.filter(col(\"dep_time\").isNotNull() & col(\"arr_time\").isNotNull()).groupBy(\n",
    "    col(\"origin\"), col(\"dest\")\n",
    ").agg(count(\"dest\").alias(\"amount_flights\")).withColumn(\n",
    "    \"rank\",\n",
    "    row_number().over(\n",
    "        Window.partitionBy(col(\"origin\")).orderBy(col(\"amount_flights\").desc())\n",
    "    ),\n",
    ").filter(col(\"rank\") == 1).select(\n",
    "    col(\"origin\"), col(\"dest\"), col(\"amount_flights\")\n",
    ").display()"
   ]
  },
  {
   "cell_type": "markdown",
   "metadata": {
    "application/vnd.databricks.v1+cell": {
     "cellMetadata": {},
     "inputWidgets": {},
     "nuid": "e1189659-7235-4ecb-bee3-3a3acbe01390",
     "showTitle": false,
     "title": ""
    }
   },
   "source": [
    "### Questão 13 - Quais são as 3 rotas que tiveram a maior variação no tempo médio de voo\n",
    "(air_time) ?"
   ]
  },
  {
   "cell_type": "code",
   "execution_count": null,
   "metadata": {
    "application/vnd.databricks.v1+cell": {
     "cellMetadata": {
      "byteLimit": 2048000,
      "rowLimit": 10000
     },
     "inputWidgets": {},
     "nuid": "9228dce5-1a1c-4789-9486-40009d441868",
     "showTitle": false,
     "title": ""
    }
   },
   "outputs": [
    {
     "data": {
      "text/html": [
       "<style scoped>\n",
       "  .table-result-container {\n",
       "    max-height: 300px;\n",
       "    overflow: auto;\n",
       "  }\n",
       "  table, th, td {\n",
       "    border: 1px solid black;\n",
       "    border-collapse: collapse;\n",
       "  }\n",
       "  th, td {\n",
       "    padding: 5px;\n",
       "  }\n",
       "  th {\n",
       "    text-align: left;\n",
       "  }\n",
       "</style><div class='table-result-container'><table class='table-result'><thead style='background-color: white'><tr><th>origin</th><th>dest</th><th>stddev_air_time_minutes</th><th>stddev_air_time_seconds</th></tr></thead><tbody><tr><td>LGA</td><td>MYR</td><td>25</td><td>19</td></tr><tr><td>EWR</td><td>HNL</td><td>21</td><td>15</td></tr><tr><td>JFK</td><td>HNL</td><td>20</td><td>41</td></tr></tbody></table></div>"
      ]
     },
     "metadata": {
      "application/vnd.databricks.v1+output": {
       "addedWidgets": {},
       "aggData": [],
       "aggError": "",
       "aggOverflow": false,
       "aggSchema": [],
       "aggSeriesLimitReached": false,
       "aggType": "",
       "arguments": {},
       "columnCustomDisplayInfos": {},
       "data": [
        [
         "LGA",
         "MYR",
         25,
         19
        ],
        [
         "EWR",
         "HNL",
         21,
         15
        ],
        [
         "JFK",
         "HNL",
         20,
         41
        ]
       ],
       "datasetInfos": [],
       "dbfsResultPath": null,
       "isJsonSchema": true,
       "metadata": {},
       "overflow": false,
       "plotOptions": {
        "customPlotOptions": {},
        "displayType": "table",
        "pivotAggregation": null,
        "pivotColumns": null,
        "xColumns": null,
        "yColumns": null
       },
       "removedWidgets": [],
       "schema": [
        {
         "metadata": "{}",
         "name": "origin",
         "type": "\"string\""
        },
        {
         "metadata": "{}",
         "name": "dest",
         "type": "\"string\""
        },
        {
         "metadata": "{}",
         "name": "stddev_air_time_minutes",
         "type": "\"long\""
        },
        {
         "metadata": "{}",
         "name": "stddev_air_time_seconds",
         "type": "\"long\""
        }
       ],
       "type": "table"
      }
     },
     "output_type": "display_data"
    }
   ],
   "source": [
    "# Considerando a variação no tempo médio de voo como o seu desvio padrão, começamos filtrando os voos que o tempo no ar não são nulos.\n",
    "# Em seguida realizamos um agrupamento sobre a origem e o destino, e agregamos pelo desvio padrao do tempo de voo.\n",
    "# Finalmente ordenamos, limitamos e transformamos os minutos em segundos.\n",
    "# Após isso podemos concluir que:\n",
    "# A primeira rota com maior variação é LGA-MYR com 25 minutos e 19 segundos\n",
    "# A segunda rota com maior variação é EWR-HNL com 21 minutos e 15 segundos\n",
    "# A terceira rota com maior variação é JFK-HNL com 20 minutos e 41 segundos\n",
    "(\n",
    "    df.filter(col(\"air_time\").isNotNull())\n",
    "    .groupBy(col(\"origin\"), col(\"dest\"))\n",
    "    .agg(stddev(col(\"air_time\")).alias(\"stddev_air_time\"))\n",
    "    .orderBy(col(\"stddev_air_time\").desc())\n",
    "    .limit(3)\n",
    "    .select(\n",
    "        col(\"origin\"),\n",
    "        col(\"dest\"),\n",
    "        floor(col(\"stddev_air_time\")).alias(\"stddev_air_time_minutes\"),\n",
    "        floor((col(\"stddev_air_time\") - floor(col(\"stddev_air_time\"))) * 60).alias(\n",
    "            \"stddev_air_time_seconds\"\n",
    "        ),\n",
    "    )\n",
    "    .display()\n",
    ")"
   ]
  },
  {
   "cell_type": "markdown",
   "metadata": {
    "application/vnd.databricks.v1+cell": {
     "cellMetadata": {},
     "inputWidgets": {},
     "nuid": "b803032d-5e11-4bd1-a879-a2f9b16e1d52",
     "showTitle": false,
     "title": ""
    }
   },
   "source": [
    "### Questão 14 - Qual é a média de atraso na chegada para voos que tiveram atraso na partida superior a 1 hora?"
   ]
  },
  {
   "cell_type": "code",
   "execution_count": null,
   "metadata": {
    "application/vnd.databricks.v1+cell": {
     "cellMetadata": {
      "byteLimit": 2048000,
      "rowLimit": 10000
     },
     "inputWidgets": {},
     "nuid": "b4bdffc6-1819-4461-b946-d1d2d3489679",
     "showTitle": false,
     "title": ""
    }
   },
   "outputs": [
    {
     "data": {
      "text/html": [
       "<style scoped>\n",
       "  .table-result-container {\n",
       "    max-height: 300px;\n",
       "    overflow: auto;\n",
       "  }\n",
       "  table, th, td {\n",
       "    border: 1px solid black;\n",
       "    border-collapse: collapse;\n",
       "  }\n",
       "  th, td {\n",
       "    padding: 5px;\n",
       "  }\n",
       "  th {\n",
       "    text-align: left;\n",
       "  }\n",
       "</style><div class='table-result-container'><table class='table-result'><thead style='background-color: white'><tr><th>mean_arr_delay_hours</th><th>mean_arr_delay_minutes</th><th>mean_arr_delay_seconds</th></tr></thead><tbody><tr><td>1</td><td>59</td><td>3</td></tr></tbody></table></div>"
      ]
     },
     "metadata": {
      "application/vnd.databricks.v1+output": {
       "addedWidgets": {},
       "aggData": [],
       "aggError": "",
       "aggOverflow": false,
       "aggSchema": [],
       "aggSeriesLimitReached": false,
       "aggType": "",
       "arguments": {},
       "columnCustomDisplayInfos": {},
       "data": [
        [
         1,
         59,
         3
        ]
       ],
       "datasetInfos": [],
       "dbfsResultPath": null,
       "isJsonSchema": true,
       "metadata": {},
       "overflow": false,
       "plotOptions": {
        "customPlotOptions": {},
        "displayType": "table",
        "pivotAggregation": null,
        "pivotColumns": null,
        "xColumns": null,
        "yColumns": null
       },
       "removedWidgets": [],
       "schema": [
        {
         "metadata": "{}",
         "name": "mean_arr_delay_hours",
         "type": "\"long\""
        },
        {
         "metadata": "{}",
         "name": "mean_arr_delay_minutes",
         "type": "\"long\""
        },
        {
         "metadata": "{}",
         "name": "mean_arr_delay_seconds",
         "type": "\"long\""
        }
       ],
       "type": "table"
      }
     },
     "output_type": "display_data"
    }
   ],
   "source": [
    "# Iniciamos filtrando os voos que possuem mais de 60 minutos de atraso de saida e algum tempo de atraso.\n",
    "# Em seguida calculamos a média do tempo de atraso na chegada e calculamos as horas, minutos e segundos.\n",
    "# Assim concluimos que o tempo solicitado é de 1 hora 59 minutos e 3 segundos.\n",
    "(\n",
    "    df.filter((col(\"dep_delay\") > 60) & (col(\"arr_delay\") > 0))\n",
    "    .select(mean(col(\"arr_delay\")).alias(\"mean_arr_delay\"))\n",
    "    .select(\n",
    "        floor(col(\"mean_arr_delay\") / 60).alias(\"mean_arr_delay_hours\"),\n",
    "        floor(col(\"mean_arr_delay\") % 60).alias(\"mean_arr_delay_minutes\"),\n",
    "        floor((col(\"mean_arr_delay\") - floor(col(\"mean_arr_delay\"))) * 60).alias(\n",
    "            \"mean_arr_delay_seconds\"\n",
    "        ),\n",
    "    )\n",
    "    .display()\n",
    ")"
   ]
  },
  {
   "cell_type": "markdown",
   "metadata": {
    "application/vnd.databricks.v1+cell": {
     "cellMetadata": {},
     "inputWidgets": {},
     "nuid": "b9b2bac5-dc1f-4dbb-8dba-9815bceb09e1",
     "showTitle": false,
     "title": ""
    }
   },
   "source": [
    "### Questão 15 - Qual é a média de voos diários para cada mês do ano?"
   ]
  },
  {
   "cell_type": "code",
   "execution_count": null,
   "metadata": {
    "application/vnd.databricks.v1+cell": {
     "cellMetadata": {
      "byteLimit": 2048000,
      "rowLimit": 10000
     },
     "inputWidgets": {},
     "nuid": "ac0d0a2b-3ec4-42fd-bda0-2ccbc98dc8a9",
     "showTitle": false,
     "title": ""
    }
   },
   "outputs": [
    {
     "data": {
      "text/html": [
       "<style scoped>\n",
       "  .table-result-container {\n",
       "    max-height: 300px;\n",
       "    overflow: auto;\n",
       "  }\n",
       "  table, th, td {\n",
       "    border: 1px solid black;\n",
       "    border-collapse: collapse;\n",
       "  }\n",
       "  th, td {\n",
       "    padding: 5px;\n",
       "  }\n",
       "  th {\n",
       "    text-align: left;\n",
       "  }\n",
       "</style><div class='table-result-container'><table class='table-result'><thead style='background-color: white'><tr><th>year</th><th>month</th><th>mean_daily_flights_by_month</th></tr></thead><tbody><tr><td>2013</td><td>1</td><td>853.8064516129032</td></tr><tr><td>2013</td><td>2</td><td>845.0</td></tr><tr><td>2013</td><td>3</td><td>901.3870967741935</td></tr><tr><td>2013</td><td>4</td><td>920.6666666666666</td></tr><tr><td>2013</td><td>5</td><td>909.516129032258</td></tr><tr><td>2013</td><td>6</td><td>905.7</td></tr><tr><td>2013</td><td>7</td><td>915.5483870967741</td></tr><tr><td>2013</td><td>8</td><td>929.7096774193549</td></tr><tr><td>2013</td><td>9</td><td>902.3333333333334</td></tr><tr><td>2013</td><td>10</td><td>923.9354838709677</td></tr><tr><td>2013</td><td>11</td><td>900.5</td></tr><tr><td>2013</td><td>12</td><td>873.4193548387096</td></tr></tbody></table></div>"
      ]
     },
     "metadata": {
      "application/vnd.databricks.v1+output": {
       "addedWidgets": {},
       "aggData": [],
       "aggError": "",
       "aggOverflow": false,
       "aggSchema": [],
       "aggSeriesLimitReached": false,
       "aggType": "",
       "arguments": {},
       "columnCustomDisplayInfos": {},
       "data": [
        [
         2013,
         1,
         853.8064516129032
        ],
        [
         2013,
         2,
         845
        ],
        [
         2013,
         3,
         901.3870967741937
        ],
        [
         2013,
         4,
         920.6666666666666
        ],
        [
         2013,
         5,
         909.516129032258
        ],
        [
         2013,
         6,
         905.7
        ],
        [
         2013,
         7,
         915.548387096774
        ],
        [
         2013,
         8,
         929.7096774193548
        ],
        [
         2013,
         9,
         902.3333333333334
        ],
        [
         2013,
         10,
         923.9354838709676
        ],
        [
         2013,
         11,
         900.5
        ],
        [
         2013,
         12,
         873.4193548387096
        ]
       ],
       "datasetInfos": [],
       "dbfsResultPath": null,
       "isJsonSchema": true,
       "metadata": {},
       "overflow": false,
       "plotOptions": {
        "customPlotOptions": {},
        "displayType": "table",
        "pivotAggregation": null,
        "pivotColumns": null,
        "xColumns": null,
        "yColumns": null
       },
       "removedWidgets": [],
       "schema": [
        {
         "metadata": "{}",
         "name": "year",
         "type": "\"long\""
        },
        {
         "metadata": "{}",
         "name": "month",
         "type": "\"long\""
        },
        {
         "metadata": "{}",
         "name": "mean_daily_flights_by_month",
         "type": "\"double\""
        }
       ],
       "type": "table"
      }
     },
     "output_type": "display_data"
    }
   ],
   "source": [
    "# Iniciamos removendo os voos cancelados, agrupamos pelo ano e mês e agregamos contando os voos para obter a quantidade de voos mensais.\n",
    "# Em seguida obtemos a quantidade de dias em cada mês e utilizamos isso para calcular a média de voos diarios mensal.\n",
    "# Finalmente chegamos a seguinte média mensal:\n",
    "# 2013/1\t853.8064516129032\n",
    "# 2013/2\t845\n",
    "# 2013/3\t901.3870967741935\n",
    "# 2013/4\t920.6666666666666\n",
    "# 2013/5\t909.516129032258\n",
    "# 2013/6\t905.7\n",
    "# 2013/7\t915.5483870967741\n",
    "# 2013/8\t929.7096774193549\n",
    "# 2013/9\t902.3333333333334\n",
    "# 2013/10\t923.9354838709677\n",
    "# 2013/11\t900.5\n",
    "# 2013/12\t873.4193548387096\n",
    "\n",
    "(\n",
    "    df.filter(col(\"dep_time\").isNotNull() & col(\"arr_time\").isNotNull())\n",
    "    .groupBy(col(\"year\"), col(\"month\"))\n",
    "    .agg(count(col(\"id\")).alias(\"amount_flights\"))\n",
    "    .select(\n",
    "        col(\"year\"),\n",
    "        col(\"month\"),\n",
    "        col(\"amount_flights\"),\n",
    "        dayofmonth(\n",
    "            last_day(concat(col(\"year\"), lit(\"-\"), col(\"month\"), lit(\"-\"), lit(1)))\n",
    "        ).alias(\"amount_days_month\"),\n",
    "    )\n",
    "    .select(\n",
    "        col(\"year\"),\n",
    "        col(\"month\"),\n",
    "        (col(\"amount_flights\") / col(\"amount_days_month\")).alias(\n",
    "            \"mean_daily_flights_by_month\"\n",
    "        ),\n",
    "    )\n",
    "    .orderBy(col(\"year\"), col(\"month\"))\n",
    "    .display()\n",
    ")"
   ]
  },
  {
   "cell_type": "markdown",
   "metadata": {
    "application/vnd.databricks.v1+cell": {
     "cellMetadata": {},
     "inputWidgets": {},
     "nuid": "e1f6273e-8374-4ae9-ab5e-08aa5227b35b",
     "showTitle": false,
     "title": ""
    }
   },
   "source": [
    "### Questão 16 - Quais são as 3 rotas mais comuns que tiveram atrasos na chegada superiores a 30 minutos?"
   ]
  },
  {
   "cell_type": "code",
   "execution_count": null,
   "metadata": {
    "application/vnd.databricks.v1+cell": {
     "cellMetadata": {
      "byteLimit": 2048000,
      "rowLimit": 10000
     },
     "inputWidgets": {},
     "nuid": "3fddaf62-eb9f-46a7-8005-f3286330146e",
     "showTitle": false,
     "title": ""
    }
   },
   "outputs": [
    {
     "data": {
      "text/html": [
       "<style scoped>\n",
       "  .table-result-container {\n",
       "    max-height: 300px;\n",
       "    overflow: auto;\n",
       "  }\n",
       "  table, th, td {\n",
       "    border: 1px solid black;\n",
       "    border-collapse: collapse;\n",
       "  }\n",
       "  th, td {\n",
       "    padding: 5px;\n",
       "  }\n",
       "  th {\n",
       "    text-align: left;\n",
       "  }\n",
       "</style><div class='table-result-container'><table class='table-result'><thead style='background-color: white'><tr><th>origin</th><th>dest</th><th>amount_delayed_flights</th></tr></thead><tbody><tr><td>LGA</td><td>ATL</td><td>1563</td></tr><tr><td>JFK</td><td>LAX</td><td>1286</td></tr><tr><td>LGA</td><td>ORD</td><td>1188</td></tr></tbody></table></div>"
      ]
     },
     "metadata": {
      "application/vnd.databricks.v1+output": {
       "addedWidgets": {},
       "aggData": [],
       "aggError": "",
       "aggOverflow": false,
       "aggSchema": [],
       "aggSeriesLimitReached": false,
       "aggType": "",
       "arguments": {},
       "columnCustomDisplayInfos": {},
       "data": [
        [
         "LGA",
         "ATL",
         1563
        ],
        [
         "JFK",
         "LAX",
         1286
        ],
        [
         "LGA",
         "ORD",
         1188
        ]
       ],
       "datasetInfos": [],
       "dbfsResultPath": null,
       "isJsonSchema": true,
       "metadata": {},
       "overflow": false,
       "plotOptions": {
        "customPlotOptions": {},
        "displayType": "table",
        "pivotAggregation": null,
        "pivotColumns": null,
        "xColumns": null,
        "yColumns": null
       },
       "removedWidgets": [],
       "schema": [
        {
         "metadata": "{}",
         "name": "origin",
         "type": "\"string\""
        },
        {
         "metadata": "{}",
         "name": "dest",
         "type": "\"string\""
        },
        {
         "metadata": "{}",
         "name": "amount_delayed_flights",
         "type": "\"long\""
        }
       ],
       "type": "table"
      }
     },
     "output_type": "display_data"
    }
   ],
   "source": [
    "# Iniciamos filtrando apenas os voos com atraso de chegado acima de 30 minutos, em seguida, agrupamos por rota\n",
    "# Contamos a quantidade de voos, ordenamos e pegamos os 3 maiores. Assim temos que as rotas desejadas são:\n",
    "# LGA-ATL com 1563 voos com mais de 30 minutos de atraso\n",
    "# JFK-LAX com 1286 voos com mais de 30 minutos de atraso\n",
    "# LGA-ORD com 1188 voos com mais de 30 minutos de atraso\n",
    "(\n",
    "    df.filter((col(\"arr_delay\") > 30))\n",
    "    .groupBy(col(\"origin\"), col(\"dest\"))\n",
    "    .agg(count(\"id\").alias(\"amount_delayed_flights\"))\n",
    "    .orderBy(col(\"amount_delayed_flights\").desc())\n",
    "    .limit(3)\n",
    "    .display()\n",
    ")"
   ]
  },
  {
   "cell_type": "markdown",
   "metadata": {
    "application/vnd.databricks.v1+cell": {
     "cellMetadata": {},
     "inputWidgets": {},
     "nuid": "90353666-ca2c-462e-87b0-da9f3646b7ea",
     "showTitle": false,
     "title": ""
    }
   },
   "source": [
    "### Questão 17 - Para cada origem, qual o principal destino?"
   ]
  },
  {
   "cell_type": "code",
   "execution_count": null,
   "metadata": {
    "application/vnd.databricks.v1+cell": {
     "cellMetadata": {},
     "inputWidgets": {},
     "nuid": "0dc5ea40-6d1c-4c7f-a2d0-6bbbbddc7565",
     "showTitle": false,
     "title": ""
    }
   },
   "outputs": [],
   "source": [
    "# Não consegui encontrar diferença nessa questão para a 12. Desta forma considero a resposta das duas a mesma."
   ]
  },
  {
   "cell_type": "markdown",
   "metadata": {
    "application/vnd.databricks.v1+cell": {
     "cellMetadata": {},
     "inputWidgets": {},
     "nuid": "5beda4c8-3cdc-4a19-81df-462f727df2e0",
     "showTitle": false,
     "title": ""
    }
   },
   "source": [
    "### Questão Final - Enriqueça a base de dados de voos com as condições meteorológicas (velocidade do vento) para os aeroportos de origem e destino. Mostre as informações enriquecidas para os 5 voos com maior atraso na chegada."
   ]
  },
  {
   "cell_type": "code",
   "execution_count": null,
   "metadata": {
    "application/vnd.databricks.v1+cell": {
     "cellMetadata": {},
     "inputWidgets": {},
     "nuid": "b5716493-9f66-4acf-8aba-1f4bb14c9630",
     "showTitle": false,
     "title": ""
    }
   },
   "outputs": [],
   "source": [
    "# Iniciamos definindo a função que irá nos retornar a latitute e longitude do aeroporto.\n",
    "def get_airport_position(airport_code: str) -> dict[str, Decimal]:\n",
    "    # Necessário para arrumar o caso do aeroporto HNL (Honolulu Havaí) no qual o código ICAO\n",
    "    # não começa com a letra K. Necessário implementar um dicionario de conversão IATA para ICAO.\n",
    "    airport_code = f\"P{airport_code}\" if airport_code == \"HNL\" else f\"K{airport_code}\"\n",
    "    url = f\"https://airportdb.io/api/v1/airport/{airport_code}\"\n",
    "    res = airport_api_session.get(url)\n",
    "    data = res.json()\n",
    "    return {\"lat\": Decimal(data[\"latitude_deg\"]), \"lon\": Decimal(data[\"longitude_deg\"])}\n",
    "\n",
    "\n",
    "# Em seguida partimos para a definição da função que retorna a velocidade média no dia desejado do aeroporto desejado\n",
    "def airport_wind_spd(airport_code: str, flight_date: date) -> Decimal | None:\n",
    "    try:\n",
    "        airport_pos = get_airport_position(airport_code=airport_code)\n",
    "        res = WHEATER_SESSION.get(\n",
    "            \"https://api.weatherbit.io/v2.0/history/daily\",\n",
    "            params={\n",
    "                \"lat\": airport_pos[\"lat\"],\n",
    "                \"lon\": airport_pos[\"lon\"],\n",
    "                \"start_date\": flight_date.isoformat(),\n",
    "                \"end_date\": (flight_date + timedelta(days=1)).isoformat(),\n",
    "            },\n",
    "        )\n",
    "        return Decimal(res.json()[\"data\"][0][\"wind_spd\"])\n",
    "    except Exception as err:\n",
    "        logging.error(err)\n",
    "        return None\n",
    "\n",
    "\n",
    "# Transformamos a função anterior em uma UDF (User Defined Function)\n",
    "airport_wind_spd_udf = udf(airport_wind_spd, DecimalType(12, 1))\n",
    "\n",
    "# Aplicamos a nossa UDF em cima dos aeroportos solicitados, no caso 5\n",
    "df.orderBy(col(\"arr_delay\").desc()).limit(5).select(\n",
    "    col(\"*\"),\n",
    "    airport_wind_spd_udf(\n",
    "        col(\"origin\"), to_date(col(\"time_hour\"), \"yyyy-MM-dd HH:mm:ss\")\n",
    "    ).alias(\"origin_wind_spd\"),\n",
    "    airport_wind_spd_udf(\n",
    "        col(\"dest\"), to_date(col(\"time_hour\"), \"yyyy-MM-dd HH:mm:ss\")\n",
    "    ).alias(\"dest_wind_spd\"),\n",
    ").display()"
   ]
  },
  {
   "cell_type": "markdown",
   "metadata": {
    "application/vnd.databricks.v1+cell": {
     "cellMetadata": {},
     "inputWidgets": {},
     "nuid": "5ed5bdc5-477c-44c1-848c-16408b50cf10",
     "showTitle": false,
     "title": ""
    }
   },
   "source": [
    "## Modelo de ML"
   ]
  },
  {
   "cell_type": "code",
   "execution_count": null,
   "metadata": {
    "application/vnd.databricks.v1+cell": {
     "cellMetadata": {
      "byteLimit": 2048000,
      "rowLimit": 10000
     },
     "inputWidgets": {},
     "nuid": "2467350b-9a38-4725-9290-05395929c8b4",
     "showTitle": false,
     "title": ""
    }
   },
   "outputs": [],
   "source": [
    "from pyspark.ml.feature import VectorAssembler\n",
    "from pyspark.ml.regression import LinearRegression\n",
    "from pyspark.ml.evaluation import RegressionEvaluator\n",
    "import joblib"
   ]
  },
  {
   "cell_type": "markdown",
   "metadata": {
    "application/vnd.databricks.v1+cell": {
     "cellMetadata": {},
     "inputWidgets": {},
     "nuid": "45c2b62b-5ec5-460d-a503-6d21dd86143d",
     "showTitle": false,
     "title": ""
    }
   },
   "source": [
    "### Limpeza do dataset"
   ]
  },
  {
   "cell_type": "code",
   "execution_count": null,
   "metadata": {
    "application/vnd.databricks.v1+cell": {
     "cellMetadata": {
      "byteLimit": 2048000,
      "rowLimit": 10000
     },
     "inputWidgets": {},
     "nuid": "1656004c-867c-4509-bcc6-629b0a0aa2c0",
     "showTitle": false,
     "title": ""
    }
   },
   "outputs": [],
   "source": [
    "# Nosso modelo consistirá em receber os horarios de saida e chegada do voo e retornar o tempo no ar.\n",
    "# ao filtrar os voos terminados, temos a garantia de que o air_time não é nulo.\n",
    "mldf = df.filter(\n",
    "    col(\"dep_time\").isNotNull()\n",
    "    & col(\"arr_time\").isNotNull()\n",
    "    & col(\"air_time\").isNotNull()\n",
    ").select(col(\"dep_time\"), col(\"arr_time\"), col(\"air_time\"))"
   ]
  },
  {
   "cell_type": "markdown",
   "metadata": {
    "application/vnd.databricks.v1+cell": {
     "cellMetadata": {},
     "inputWidgets": {},
     "nuid": "82eea969-0c03-47ef-97c4-836cb5c5ce51",
     "showTitle": false,
     "title": ""
    }
   },
   "source": [
    "### Definição de features e target, e divisão de treino e teste"
   ]
  },
  {
   "cell_type": "code",
   "execution_count": null,
   "metadata": {
    "application/vnd.databricks.v1+cell": {
     "cellMetadata": {
      "byteLimit": 2048000,
      "rowLimit": 10000
     },
     "inputWidgets": {},
     "nuid": "f6192662-d8a6-41d6-9cd5-ad86819fc45b",
     "showTitle": false,
     "title": ""
    }
   },
   "outputs": [],
   "source": [
    "# Definimos as features e o target, e dividimos em teste e treino\n",
    "assembler = VectorAssembler(inputCols=[\"dep_time\", \"arr_time\"], outputCol=\"features\")\n",
    "df_train, df_test = (\n",
    "    assembler.transform(mldf)\n",
    "    .select(col(\"features\"), col(\"air_time\"))\n",
    "    .randomSplit([0.9, 0.1])\n",
    ")"
   ]
  },
  {
   "cell_type": "markdown",
   "metadata": {
    "application/vnd.databricks.v1+cell": {
     "cellMetadata": {},
     "inputWidgets": {},
     "nuid": "d7ebef33-13d6-4c81-8c68-b89a703d0090",
     "showTitle": false,
     "title": ""
    }
   },
   "source": [
    "### Treino e avaliação"
   ]
  },
  {
   "cell_type": "code",
   "execution_count": null,
   "metadata": {
    "application/vnd.databricks.v1+cell": {
     "cellMetadata": {
      "byteLimit": 2048000,
      "rowLimit": 10000
     },
     "inputWidgets": {},
     "nuid": "1a5472a3-b61b-4d65-b329-4c35692c4e41",
     "showTitle": false,
     "title": ""
    }
   },
   "outputs": [
    {
     "data": {
      "application/vnd.jupyter.widget-view+json": {
       "model_id": "c8b55c0378b84e4595b99fa6d40c2d75",
       "version_major": 2,
       "version_minor": 0
      },
      "text/plain": [
       "Downloading artifacts:   0%|          | 0/9 [00:00<?, ?it/s]"
      ]
     },
     "metadata": {},
     "output_type": "display_data"
    },
    {
     "data": {
      "application/vnd.jupyter.widget-view+json": {
       "model_id": "8de1820354024c9ea530485ff4fcab0b",
       "version_major": 2,
       "version_minor": 0
      },
      "text/plain": [
       "Uploading artifacts:   0%|          | 0/4 [00:00<?, ?it/s]"
      ]
     },
     "metadata": {},
     "output_type": "display_data"
    }
   ],
   "source": [
    "# Realizamos o treinamento e as predições\n",
    "reg = LinearRegression(featuresCol=\"features\", labelCol=\"air_time\")\n",
    "reg = reg.fit(df_train)\n",
    "pred = reg.transform(df_test)"
   ]
  },
  {
   "cell_type": "markdown",
   "metadata": {
    "application/vnd.databricks.v1+cell": {
     "cellMetadata": {},
     "inputWidgets": {},
     "nuid": "42f0dcda-c183-4935-a228-7e4773baec80",
     "showTitle": false,
     "title": ""
    }
   },
   "source": [
    "### Calculo de métricas"
   ]
  },
  {
   "cell_type": "code",
   "execution_count": null,
   "metadata": {
    "application/vnd.databricks.v1+cell": {
     "cellMetadata": {
      "byteLimit": 2048000,
      "rowLimit": 10000
     },
     "inputWidgets": {},
     "nuid": "8a352266-056d-4c8c-916e-2adf5f9eb160",
     "showTitle": false,
     "title": ""
    }
   },
   "outputs": [
    {
     "name": "stdout",
     "output_type": "stream",
     "text": [
      "Root Mean Squared Error (RMSE): 93.62597387680323\n",
      "R2: 0.007876950067743804\n"
     ]
    }
   ],
   "source": [
    "# Tiramos as\n",
    "# Avaliar o modelo usando métricas como RMSE e R2, que fazem sentido visto que é uma regressão linear\n",
    "evaluator = RegressionEvaluator(\n",
    "    labelCol=\"air_time\", predictionCol=\"prediction\", metricName=\"rmse\"\n",
    ")\n",
    "rmse = evaluator.evaluate(pred)\n",
    "print(f\"Root Mean Squared Error (RMSE): {rmse}\")\n",
    "evaluator_r2 = RegressionEvaluator(\n",
    "    labelCol=\"air_time\", predictionCol=\"prediction\", metricName=\"r2\"\n",
    ")\n",
    "r2 = evaluator_r2.evaluate(pred)\n",
    "print(f\"R2: {r2}\")"
   ]
  },
  {
   "cell_type": "markdown",
   "metadata": {
    "application/vnd.databricks.v1+cell": {
     "cellMetadata": {},
     "inputWidgets": {},
     "nuid": "f9504aba-3e36-4793-8ea0-f4d477254136",
     "showTitle": false,
     "title": ""
    }
   },
   "source": [
    "### Exportar modelo"
   ]
  },
  {
   "cell_type": "code",
   "execution_count": null,
   "metadata": {
    "application/vnd.databricks.v1+cell": {
     "cellMetadata": {
      "byteLimit": 2048000,
      "rowLimit": 10000
     },
     "inputWidgets": {},
     "nuid": "1bdd77fa-56d0-4c28-9989-f64ac9f89629",
     "showTitle": false,
     "title": ""
    }
   },
   "outputs": [],
   "source": [
    "# Como fizemos uma regressão linear, podemos simplificar exportando apenas os coeficientes e o interceptador\n",
    "coefficients = reg.coefficients.toArray()\n",
    "intercept = reg.intercept\n",
    "model_params = {\"coefficients\": coefficients, \"intercept\": intercept}"
   ]
  },
  {
   "cell_type": "code",
   "execution_count": null,
   "metadata": {
    "application/vnd.databricks.v1+cell": {
     "cellMetadata": {
      "byteLimit": 2048000,
      "rowLimit": 10000
     },
     "inputWidgets": {},
     "nuid": "e129fb6f-756f-4545-958b-b7765064f348",
     "showTitle": false,
     "title": ""
    }
   },
   "outputs": [
    {
     "data": {
      "text/plain": [
       "True"
      ]
     },
     "execution_count": 103,
     "metadata": {},
     "output_type": "execute_result"
    }
   ],
   "source": [
    "# Em seguida colocamos o modelo em um lugar temporario e movemos para o FileStore\n",
    "joblib.dump(model_params, \"/tmp/model_params.pkl\")\n",
    "dbutils.fs.mv(\"file:/tmp/model_params.pkl\", \"/FileStore/models/model_params.pkl\")\n",
    "\n",
    "# Agora o modelo está disponivel para download através do link\n",
    "# https://community.cloud.databricks.com/files/models/model_params.pkl"
   ]
  }
 ],
 "metadata": {
  "application/vnd.databricks.v1+notebook": {
   "dashboards": [],
   "environmentMetadata": null,
   "language": "python",
   "notebookMetadata": {
    "mostRecentlyExecutedCommandWithImplicitDF": {
     "commandId": -1,
     "dataframes": [
      "_sqldf"
     ]
    },
    "pythonIndentUnit": 4
   },
   "notebookName": "Prova Picpay",
   "widgets": {
    "airport_token": {
     "currentValue": "7c2a128b4d6b8c7b646ae370f64cccc71ebf34c13a163da418407d5315c5bae3c7e35e0ae271fde68610b43142fa1c42",
     "nuid": "bf50290c-fe25-4df3-a8ef-5122403985a8",
     "typedWidgetInfo": null,
     "widgetInfo": {
      "defaultValue": "",
      "label": null,
      "name": "airport_token",
      "options": {
       "autoCreated": null,
       "validationRegex": null,
       "widgetType": "text"
      },
      "widgetType": "text"
     }
    },
    "wheather_token": {
     "currentValue": "495c096c60e54434bd88998aef397ec9",
     "nuid": "be6a7729-0010-4c08-aec8-cce7e9e47bb5",
     "typedWidgetInfo": null,
     "widgetInfo": {
      "defaultValue": "",
      "label": null,
      "name": "wheather_token",
      "options": {
       "autoCreated": null,
       "validationRegex": null,
       "widgetType": "text"
      },
      "widgetType": "text"
     }
    }
   }
  },
  "language_info": {
   "name": "python"
  }
 },
 "nbformat": 4,
 "nbformat_minor": 0
}
